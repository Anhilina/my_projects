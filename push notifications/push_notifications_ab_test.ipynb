{
  "cells": [
    {
      "cell_type": "markdown",
      "metadata": {
        "id": "w3-NsqM17s7B"
      },
      "source": [
        "## Company description\n",
        "XYZ Auctions is an innovative digital platform committed to bringing exciting auctions to the fingertips of collectors and enthusiasts around the globe. Specializing in sports cards, comics, and other highly sought-after collectibles, we leverage the power of technology to deliver a seamless and engaging auction experience to our users. Our mobile app connects sellers with a broad audience of potential buyers, driving competition, and ensuring items reach their true market value. As a trusted marketplace, we pride ourselves on our commitment to authenticity, transparency, and outstanding customer service."
      ]
    },
    {
      "cell_type": "markdown",
      "metadata": {
        "id": "Xn_yaA7j7s7E"
      },
      "source": [
        "## Project desctiption\n",
        "A/B testing for mobile push notifications, with the aim of determining the most effective timimg to encourage participation in auctions."
      ]
    },
    {
      "cell_type": "markdown",
      "metadata": {
        "id": "rImiZRwX7s7F"
      },
      "source": [
        "## Data description\n",
        "The dataset is given in the file ```push_data.csv```. The dataset provides information on the total number of users who recieved push notifications. Here's a description of each column:\n",
        "- `uid` : A unique identifier for each user\n",
        "- `log_date` : A first date when the log was made once the push notification has been sent to the user\n",
        "- `time` : The time when the log was created (time zone GMT-7), the values are significantly rounded for clarity and ease of data manipulation\n",
        "- `device` : The type of device used by the user, such as Android or iOS\n",
        "- `browser` : The browser used by the user, such as Chrome or Safari\n",
        "- `push_notification` : The push notifications into types 'A' and 'B', likely used for A/B testing.\n",
        "- `bid_day` : Represents the day of a scheduled bid (`1st - Mar 2`, `2nd - Mar 10`, `3rd - Mar 25`)\n",
        "- `country` : The country of the user\n",
        "- `state` : The state where the user is based (limited to 3 states only to monitor users within one timezone)\n",
        "- `bidded` : The user participated in auction"
      ]
    },
    {
      "cell_type": "markdown",
      "metadata": {
        "id": "_VsAujfu7s7G"
      },
      "source": [
        "## Encouraging participation in auctions can have several benefits, such as:\n",
        "- Increased Competition: More bidders can lead to higher competition, which can potentially drive up the final auction prices. This can lead to higher revenue for both the company and the seller of the item.\n",
        "- Greater Product Exposure: More participants means more people viewing the products. Even if they don't win the auction, they might become interested in other items or future auctions.\n",
        "- Customer Engagement: Participating in an auction can increase user engagement with the app and the brand. This can lead to higher user retention and loyalty, which can have long-term benefits for the business.\n",
        "- Market Insights: With more people participating, we can gather more data about customer preferences and behaviors. This can help refine the product offering and marketing strategy, and potentially identify new opportunities.\n",
        "- User Acquisition: If users find the auctions exciting and competitive, they may invite friends or share their experiences on social media, helping to attract new users to the platform.\n",
        "- Profit Maximization: Auctions often result in the sale of a product at the highest possible price that buyers are willing to pay. More participation can enhance this effect, maximizing profitability for sellers and revenue for the platform."
      ]
    },
    {
      "cell_type": "markdown",
      "metadata": {
        "id": "al1cjKth7s7H"
      },
      "source": [
        "## Assignment\n",
        "Here's how we can run the A/B test,randomly assign users into two groups:\n",
        "- The first group, the control group, will continue receiving notifications 15 minutes prior to the start of an auction.\n",
        "- The second group, the experimental group, will receive notifications 5 minutes prior to the start of an auction.\n",
        "\n",
        "In this case, the metric is the participation ratio, which is presumably the number of users who participate in the auction divided by the total number of users who received the notification."
      ]
    },
    {
      "cell_type": "markdown",
      "metadata": {
        "id": "qYPhz6tD7s7I"
      },
      "source": [
        "## KPIs defenition\n",
        "At this stage we are not interested in success rate, we'll be more focused on bid participation.\n",
        "That's why we choose the following main and proxy metrics:\n",
        "- `Bids Initiated Ratio (BIR)`: The total number of bids (successful or not) initiated divided by the total number of push notifications received. This measures the overall engagement in bidding activity driven by your push notifications, irrespective of the outcome.\n",
        "- `Click-Through Rate (CTR)`: The number of times a notification is opened or clicked on divided by the total number of notifications sent. This is a useful metric to measure the initial level of engagement with your push notifications, and it can often be a good predictor of downstream actions like bidding.\n"
      ]
    },
    {
      "cell_type": "markdown",
      "metadata": {
        "id": "SjCIs36S7s7k"
      },
      "source": [
        "## Auctions schedule\n",
        "- `March 2, 2022`, `8:15`\n",
        "- `March 10, 2022`, `9:30`\n",
        "- `March 25, 2022`, `14:40`"
      ]
    },
    {
      "cell_type": "markdown",
      "metadata": {
        "id": "W9vBHFA07s7l"
      },
      "source": [
        "## Exploratory data analysis\n",
        "In this part, we'll conduct an exploratory data analysis. The primary objective of this phase is to gain familiarity with the dataset, extract descriptive statistics, and gather insights about both the data set and user data."
      ]
    },
    {
      "cell_type": "code",
      "execution_count": 1,
      "metadata": {
        "id": "4u-ubzEd7s7l",
        "trusted": true
      },
      "outputs": [],
      "source": [
        "# Importing pandas\n",
        "import pandas as pd\n",
        "import seaborn as sns\n",
        "import numpy as np\n",
        "import matplotlib.pyplot as plt\n",
        "from statsmodels.stats.proportion import proportions_ztest\n",
        "from statsmodels.stats.proportion import proportion_confint\n",
        "\n",
        "#importing file with data\n",
        "importing data\n",
        "push_df = pd.read_csv('push_data.csv')\n"
      ]
    },
    {
      "cell_type": "code",
      "execution_count": 4,
      "metadata": {
        "colab": {
          "base_uri": "https://localhost:8080/",
          "height": 552
        },
        "id": "3vp8k8Y47s7n",
        "outputId": "ab49952e-5562-42e2-e409-47b967288f45"
      },
      "outputs": [
        {
          "data": {
            "text/plain": [
              "<Axes: >"
            ]
          },
          "execution_count": 4,
          "metadata": {},
          "output_type": "execute_result"
        },
        {
          "data": {
            "image/png": "[encoded data removed]",
            "text/plain": [
              "<Figure size 640x480 with 1 Axes>"
            ]
          },
          "metadata": {},
          "output_type": "display_data"
        }
      ],
      "source": [
        "# check if there are any Null values\n",
        "sns.heatmap(push_df.isnull(), yticklabels = False, cbar = False, cmap=\"Blues\")"
      ]
    },
    {
      "cell_type": "code",
      "execution_count": 5,
      "metadata": {
        "colab": {
          "base_uri": "https://localhost:8080/"
        },
        "id": "sT1c2Nil7s7o",
        "outputId": "a9062dac-ed46-48ff-e3a7-bb9355a574e1",
        "trusted": true
      },
      "outputs": [
        {
          "data": {
            "text/plain": [
              "(10000, 10)"
            ]
          },
          "execution_count": 5,
          "metadata": {},
          "output_type": "execute_result"
        }
      ],
      "source": [
        "push_df.shape"
      ]
    },
    {
      "cell_type": "code",
      "execution_count": 6,
      "metadata": {
        "colab": {
          "base_uri": "https://localhost:8080/",
          "height": 206
        },
        "id": "OKbWU19w7s7o",
        "outputId": "ce000145-713d-40c2-ea81-ee5640f2fa13",
        "trusted": true
      },
      "outputs": [
        {
          "data": {
            "text/html": [
              "\n",
              "  <div id=\"df-ee822e03-ab8c-49a6-ac20-28f97937d86c\">\n",
              "    <div class=\"colab-df-container\">\n",
              "      <div>\n",
              "<style scoped>\n",
              "    .dataframe tbody tr th:only-of-type {\n",
              "        vertical-align: middle;\n",
              "    }\n",
              "\n",
              "    .dataframe tbody tr th {\n",
              "        vertical-align: top;\n",
              "    }\n",
              "\n",
              "    .dataframe thead th {\n",
              "        text-align: right;\n",
              "    }\n",
              "</style>\n",
              "<table border=\"1\" class=\"dataframe\">\n",
              "  <thead>\n",
              "    <tr style=\"text-align: right;\">\n",
              "      <th></th>\n",
              "      <th>uid</th>\n",
              "      <th>log_date</th>\n",
              "      <th>time</th>\n",
              "      <th>device</th>\n",
              "      <th>browser</th>\n",
              "      <th>push_notification</th>\n",
              "      <th>bid_day</th>\n",
              "      <th>country</th>\n",
              "      <th>state</th>\n",
              "      <th>bidded</th>\n",
              "    </tr>\n",
              "  </thead>\n",
              "  <tbody>\n",
              "    <tr>\n",
              "      <th>0</th>\n",
              "      <td>54030035.0</td>\n",
              "      <td>March 2, 2022</td>\n",
              "      <td>8:00</td>\n",
              "      <td>Android</td>\n",
              "      <td>Chrome</td>\n",
              "      <td>A</td>\n",
              "      <td>1</td>\n",
              "      <td>USA</td>\n",
              "      <td>UTAH</td>\n",
              "      <td>True</td>\n",
              "    </tr>\n",
              "    <tr>\n",
              "      <th>1</th>\n",
              "      <td>72574201.0</td>\n",
              "      <td>March 2, 2022</td>\n",
              "      <td>8:10</td>\n",
              "      <td>iOS</td>\n",
              "      <td>Safari</td>\n",
              "      <td>B</td>\n",
              "      <td>1</td>\n",
              "      <td>USA</td>\n",
              "      <td>COLORADO</td>\n",
              "      <td>True</td>\n",
              "    </tr>\n",
              "    <tr>\n",
              "      <th>2</th>\n",
              "      <td>64187558.0</td>\n",
              "      <td>March 2, 2022</td>\n",
              "      <td>8:00</td>\n",
              "      <td>iOS</td>\n",
              "      <td>Chrome</td>\n",
              "      <td>A</td>\n",
              "      <td>1</td>\n",
              "      <td>USA</td>\n",
              "      <td>ARIZONA</td>\n",
              "      <td>True</td>\n",
              "    </tr>\n",
              "    <tr>\n",
              "      <th>3</th>\n",
              "      <td>92513925.0</td>\n",
              "      <td>March 2, 2022</td>\n",
              "      <td>8:10</td>\n",
              "      <td>Android</td>\n",
              "      <td>Chrome</td>\n",
              "      <td>B</td>\n",
              "      <td>1</td>\n",
              "      <td>USA</td>\n",
              "      <td>UTAH</td>\n",
              "      <td>True</td>\n",
              "    </tr>\n",
              "    <tr>\n",
              "      <th>4</th>\n",
              "      <td>99231338.0</td>\n",
              "      <td>March 2, 2022</td>\n",
              "      <td>8:10</td>\n",
              "      <td>iOS</td>\n",
              "      <td>Chrome</td>\n",
              "      <td>B</td>\n",
              "      <td>1</td>\n",
              "      <td>USA</td>\n",
              "      <td>COLORADO</td>\n",
              "      <td>True</td>\n",
              "    </tr>\n",
              "  </tbody>\n",
              "</table>\n",
              "</div>\n",
              "      <button class=\"colab-df-convert\" onclick=\"convertToInteractive('df-ee822e03-ab8c-49a6-ac20-28f97937d86c')\"\n",
              "              title=\"Convert this dataframe to an interactive table.\"\n",
              "              style=\"display:none;\">\n",
              "        \n",
              "  <svg xmlns=\"http://www.w3.org/2000/svg\" height=\"24px\"viewBox=\"0 0 24 24\"\n",
              "       width=\"24px\">\n",
              "    <path d=\"M0 0h24v24H0V0z\" fill=\"none\"/>\n",
              "    <path d=\"M18.56 5.44l.94 2.06.94-2.06 2.06-.94-2.06-.94-.94-2.06-.94 2.06-2.06.94zm-11 1L8.5 8.5l.94-2.06 2.06-.94-2.06-.94L8.5 2.5l-.94 2.06-2.06.94zm10 10l.94 2.06.94-2.06 2.06-.94-2.06-.94-.94-2.06-.94 2.06-2.06.94z\"/><path d=\"M17.41 7.96l-1.37-1.37c-.4-.4-.92-.59-1.43-.59-.52 0-1.04.2-1.43.59L10.3 9.45l-7.72 7.72c-.78.78-.78 2.05 0 2.83L4 21.41c.39.39.9.59 1.41.59.51 0 1.02-.2 1.41-.59l7.78-7.78 2.81-2.81c.8-.78.8-2.07 0-2.86zM5.41 20L4 18.59l7.72-7.72 1.47 1.35L5.41 20z\"/>\n",
              "  </svg>\n",
              "      </button>\n",
              "      \n",
              "  <style>\n",
              "    .colab-df-container {\n",
              "      display:flex;\n",
              "      flex-wrap:wrap;\n",
              "      gap: 12px;\n",
              "    }\n",
              "\n",
              "    .colab-df-convert {\n",
              "      background-color: #E8F0FE;\n",
              "      border: none;\n",
              "      border-radius: 50%;\n",
              "      cursor: pointer;\n",
              "      display: none;\n",
              "      fill: #1967D2;\n",
              "      height: 32px;\n",
              "      padding: 0 0 0 0;\n",
              "      width: 32px;\n",
              "    }\n",
              "\n",
              "    .colab-df-convert:hover {\n",
              "      background-color: #E2EBFA;\n",
              "      box-shadow: 0px 1px 2px rgba(60, 64, 67, 0.3), 0px 1px 3px 1px rgba(60, 64, 67, 0.15);\n",
              "      fill: #174EA6;\n",
              "    }\n",
              "\n",
              "    [theme=dark] .colab-df-convert {\n",
              "      background-color: #3B4455;\n",
              "      fill: #D2E3FC;\n",
              "    }\n",
              "\n",
              "    [theme=dark] .colab-df-convert:hover {\n",
              "      background-color: #434B5C;\n",
              "      box-shadow: 0px 1px 3px 1px rgba(0, 0, 0, 0.15);\n",
              "      filter: drop-shadow(0px 1px 2px rgba(0, 0, 0, 0.3));\n",
              "      fill: #FFFFFF;\n",
              "    }\n",
              "  </style>\n",
              "\n",
              "      <script>\n",
              "        const buttonEl =\n",
              "          document.querySelector('#df-ee822e03-ab8c-49a6-ac20-28f97937d86c button.colab-df-convert');\n",
              "        buttonEl.style.display =\n",
              "          google.colab.kernel.accessAllowed ? 'block' : 'none';\n",
              "\n",
              "        async function convertToInteractive(key) {\n",
              "          const element = document.querySelector('#df-ee822e03-ab8c-49a6-ac20-28f97937d86c');\n",
              "          const dataTable =\n",
              "            await google.colab.kernel.invokeFunction('convertToInteractive',\n",
              "                                                     [key], {});\n",
              "          if (!dataTable) return;\n",
              "\n",
              "          const docLinkHtml = 'Like what you see? Visit the ' +\n",
              "            '<a target=\"_blank\" href=https://colab.research.google.com/notebooks/data_table.ipynb>data table notebook</a>'\n",
              "            + ' to learn more about interactive tables.';\n",
              "          element.innerHTML = '';\n",
              "          dataTable['output_type'] = 'display_data';\n",
              "          await google.colab.output.renderOutput(dataTable, element);\n",
              "          const docLink = document.createElement('div');\n",
              "          docLink.innerHTML = docLinkHtml;\n",
              "          element.appendChild(docLink);\n",
              "        }\n",
              "      </script>\n",
              "    </div>\n",
              "  </div>\n",
              "  "
            ],
            "text/plain": [
              "          uid       log_date  time   device browser push_notification  \\\n",
              "0  54030035.0  March 2, 2022  8:00  Android  Chrome                 A   \n",
              "1  72574201.0  March 2, 2022  8:10      iOS  Safari                 B   \n",
              "2  64187558.0  March 2, 2022  8:00      iOS  Chrome                 A   \n",
              "3  92513925.0  March 2, 2022  8:10  Android  Chrome                 B   \n",
              "4  99231338.0  March 2, 2022  8:10      iOS  Chrome                 B   \n",
              "\n",
              "   bid_day country     state  bidded  \n",
              "0        1     USA      UTAH    True  \n",
              "1        1     USA  COLORADO    True  \n",
              "2        1     USA   ARIZONA    True  \n",
              "3        1     USA      UTAH    True  \n",
              "4        1     USA  COLORADO    True  "
            ]
          },
          "execution_count": 6,
          "metadata": {},
          "output_type": "execute_result"
        }
      ],
      "source": [
        "push_df.head()"
      ]
    },
    {
      "cell_type": "code",
      "execution_count": 7,
      "metadata": {
        "colab": {
          "base_uri": "https://localhost:8080/"
        },
        "id": "XvwmDi7g7s7p",
        "outputId": "f85f8f78-38a0-49f7-993e-a63a70191dc2",
        "trusted": true
      },
      "outputs": [
        {
          "name": "stdout",
          "output_type": "stream",
          "text": [
            "<class 'pandas.core.frame.DataFrame'>\n",
            "RangeIndex: 10000 entries, 0 to 9999\n",
            "Data columns (total 10 columns):\n",
            " #   Column             Non-Null Count  Dtype  \n",
            "---  ------             --------------  -----  \n",
            " 0   uid                10000 non-null  float64\n",
            " 1   log_date           10000 non-null  object \n",
            " 2   time               10000 non-null  object \n",
            " 3   device             10000 non-null  object \n",
            " 4   browser            10000 non-null  object \n",
            " 5   push_notification  10000 non-null  object \n",
            " 6   bid_day            10000 non-null  int64  \n",
            " 7   country            10000 non-null  object \n",
            " 8   state              10000 non-null  object \n",
            " 9   bidded             10000 non-null  bool   \n",
            "dtypes: bool(1), float64(1), int64(1), object(7)\n",
            "memory usage: 713.0+ KB\n"
          ]
        }
      ],
      "source": [
        "push_df.info()"
      ]
    },
    {
      "cell_type": "markdown",
      "metadata": {
        "id": "AZhGnZyk7s7q"
      },
      "source": [
        ">Gives us us the understanding the basic information about  dataset such as the number of records & the type of variables."
      ]
    },
    {
      "cell_type": "code",
      "execution_count": 8,
      "metadata": {
        "colab": {
          "base_uri": "https://localhost:8080/"
        },
        "id": "6UdcIxr-7s7q",
        "outputId": "904fd05c-7b5b-4b1c-ded5-484d188902ff",
        "trusted": true
      },
      "outputs": [
        {
          "name": "stdout",
          "output_type": "stream",
          "text": [
            "Device types:\n",
            "Android    5810\n",
            "iOS        4190\n",
            "Name: device, dtype: int64\n",
            "\n",
            "Browser types:\n",
            "Chrome    9595\n",
            "Safari     405\n",
            "Name: browser, dtype: int64\n",
            "\n",
            "States:\n",
            "UTAH        3334\n",
            "COLORADO    3333\n",
            "ARIZONA     3333\n",
            "Name: state, dtype: int64\n",
            "\n",
            "User participated in auction:\n",
            "False    7536\n",
            "True     2464\n",
            "Name: bidded, dtype: int64\n"
          ]
        }
      ],
      "source": [
        "#Summarize categorical data\n",
        "print(\"Device types:\")\n",
        "print(push_df[\"device\"].value_counts())\n",
        "print(\"\")\n",
        "print(\"Browser types:\")\n",
        "print(push_df[\"browser\"].value_counts())\n",
        "print(\"\")\n",
        "print(\"States:\")\n",
        "print(push_df[\"state\"].value_counts())\n",
        "print(\"\")\n",
        "print(\"User participated in auction:\")\n",
        "print(push_df[\"bidded\"].value_counts())"
      ]
    },
    {
      "cell_type": "code",
      "execution_count": 9,
      "metadata": {
        "colab": {
          "base_uri": "https://localhost:8080/",
          "height": 198
        },
        "id": "S9H6rN_n7s7r",
        "outputId": "91c7effc-9500-45a4-b710-717547d36b93"
      },
      "outputs": [
        {
          "name": "stderr",
          "output_type": "stream",
          "text": [
            "<ipython-input-9-7166d2d5f11e>:2: FutureWarning: The default value of numeric_only in DataFrame.corr is deprecated. In a future version, it will default to False. Select only valid columns or specify the value of numeric_only to silence this warning.\n",
            "  push_df.corr()\n"
          ]
        },
        {
          "data": {
            "text/html": [
              "\n",
              "  <div id=\"df-741586cc-ee8e-4c46-b73e-872a38822dcc\">\n",
              "    <div class=\"colab-df-container\">\n",
              "      <div>\n",
              "<style scoped>\n",
              "    .dataframe tbody tr th:only-of-type {\n",
              "        vertical-align: middle;\n",
              "    }\n",
              "\n",
              "    .dataframe tbody tr th {\n",
              "        vertical-align: top;\n",
              "    }\n",
              "\n",
              "    .dataframe thead th {\n",
              "        text-align: right;\n",
              "    }\n",
              "</style>\n",
              "<table border=\"1\" class=\"dataframe\">\n",
              "  <thead>\n",
              "    <tr style=\"text-align: right;\">\n",
              "      <th></th>\n",
              "      <th>uid</th>\n",
              "      <th>bid_day</th>\n",
              "      <th>bidded</th>\n",
              "    </tr>\n",
              "  </thead>\n",
              "  <tbody>\n",
              "    <tr>\n",
              "      <th>uid</th>\n",
              "      <td>1.000000</td>\n",
              "      <td>-0.017118</td>\n",
              "      <td>0.009576</td>\n",
              "    </tr>\n",
              "    <tr>\n",
              "      <th>bid_day</th>\n",
              "      <td>-0.017118</td>\n",
              "      <td>1.000000</td>\n",
              "      <td>-0.001489</td>\n",
              "    </tr>\n",
              "    <tr>\n",
              "      <th>bidded</th>\n",
              "      <td>0.009576</td>\n",
              "      <td>-0.001489</td>\n",
              "      <td>1.000000</td>\n",
              "    </tr>\n",
              "  </tbody>\n",
              "</table>\n",
              "</div>\n",
              "      <button class=\"colab-df-convert\" onclick=\"convertToInteractive('df-741586cc-ee8e-4c46-b73e-872a38822dcc')\"\n",
              "              title=\"Convert this dataframe to an interactive table.\"\n",
              "              style=\"display:none;\">\n",
              "        \n",
              "  <svg xmlns=\"http://www.w3.org/2000/svg\" height=\"24px\"viewBox=\"0 0 24 24\"\n",
              "       width=\"24px\">\n",
              "    <path d=\"M0 0h24v24H0V0z\" fill=\"none\"/>\n",
              "    <path d=\"M18.56 5.44l.94 2.06.94-2.06 2.06-.94-2.06-.94-.94-2.06-.94 2.06-2.06.94zm-11 1L8.5 8.5l.94-2.06 2.06-.94-2.06-.94L8.5 2.5l-.94 2.06-2.06.94zm10 10l.94 2.06.94-2.06 2.06-.94-2.06-.94-.94-2.06-.94 2.06-2.06.94z\"/><path d=\"M17.41 7.96l-1.37-1.37c-.4-.4-.92-.59-1.43-.59-.52 0-1.04.2-1.43.59L10.3 9.45l-7.72 7.72c-.78.78-.78 2.05 0 2.83L4 21.41c.39.39.9.59 1.41.59.51 0 1.02-.2 1.41-.59l7.78-7.78 2.81-2.81c.8-.78.8-2.07 0-2.86zM5.41 20L4 18.59l7.72-7.72 1.47 1.35L5.41 20z\"/>\n",
              "  </svg>\n",
              "      </button>\n",
              "      \n",
              "  <style>\n",
              "    .colab-df-container {\n",
              "      display:flex;\n",
              "      flex-wrap:wrap;\n",
              "      gap: 12px;\n",
              "    }\n",
              "\n",
              "    .colab-df-convert {\n",
              "      background-color: #E8F0FE;\n",
              "      border: none;\n",
              "      border-radius: 50%;\n",
              "      cursor: pointer;\n",
              "      display: none;\n",
              "      fill: #1967D2;\n",
              "      height: 32px;\n",
              "      padding: 0 0 0 0;\n",
              "      width: 32px;\n",
              "    }\n",
              "\n",
              "    .colab-df-convert:hover {\n",
              "      background-color: #E2EBFA;\n",
              "      box-shadow: 0px 1px 2px rgba(60, 64, 67, 0.3), 0px 1px 3px 1px rgba(60, 64, 67, 0.15);\n",
              "      fill: #174EA6;\n",
              "    }\n",
              "\n",
              "    [theme=dark] .colab-df-convert {\n",
              "      background-color: #3B4455;\n",
              "      fill: #D2E3FC;\n",
              "    }\n",
              "\n",
              "    [theme=dark] .colab-df-convert:hover {\n",
              "      background-color: #434B5C;\n",
              "      box-shadow: 0px 1px 3px 1px rgba(0, 0, 0, 0.15);\n",
              "      filter: drop-shadow(0px 1px 2px rgba(0, 0, 0, 0.3));\n",
              "      fill: #FFFFFF;\n",
              "    }\n",
              "  </style>\n",
              "\n",
              "      <script>\n",
              "        const buttonEl =\n",
              "          document.querySelector('#df-741586cc-ee8e-4c46-b73e-872a38822dcc button.colab-df-convert');\n",
              "        buttonEl.style.display =\n",
              "          google.colab.kernel.accessAllowed ? 'block' : 'none';\n",
              "\n",
              "        async function convertToInteractive(key) {\n",
              "          const element = document.querySelector('#df-741586cc-ee8e-4c46-b73e-872a38822dcc');\n",
              "          const dataTable =\n",
              "            await google.colab.kernel.invokeFunction('convertToInteractive',\n",
              "                                                     [key], {});\n",
              "          if (!dataTable) return;\n",
              "\n",
              "          const docLinkHtml = 'Like what you see? Visit the ' +\n",
              "            '<a target=\"_blank\" href=https://colab.research.google.com/notebooks/data_table.ipynb>data table notebook</a>'\n",
              "            + ' to learn more about interactive tables.';\n",
              "          element.innerHTML = '';\n",
              "          dataTable['output_type'] = 'display_data';\n",
              "          await google.colab.output.renderOutput(dataTable, element);\n",
              "          const docLink = document.createElement('div');\n",
              "          docLink.innerHTML = docLinkHtml;\n",
              "          element.appendChild(docLink);\n",
              "        }\n",
              "      </script>\n",
              "    </div>\n",
              "  </div>\n",
              "  "
            ],
            "text/plain": [
              "              uid   bid_day    bidded\n",
              "uid      1.000000 -0.017118  0.009576\n",
              "bid_day -0.017118  1.000000 -0.001489\n",
              "bidded   0.009576 -0.001489  1.000000"
            ]
          },
          "execution_count": 9,
          "metadata": {},
          "output_type": "execute_result"
        }
      ],
      "source": [
        "# Checking if there any correlations between columns\n",
        "push_df.corr()"
      ]
    },
    {
      "cell_type": "code",
      "execution_count": 10,
      "metadata": {
        "colab": {
          "base_uri": "https://localhost:8080/",
          "height": 490
        },
        "id": "O5B0lRfv7s7r",
        "outputId": "ef240dc4-9070-4156-f306-73992baf69fc"
      },
      "outputs": [
        {
          "name": "stderr",
          "output_type": "stream",
          "text": [
            "<ipython-input-10-0359f6ae2935>:1: FutureWarning: The default value of numeric_only in DataFrame.corr is deprecated. In a future version, it will default to False. Select only valid columns or specify the value of numeric_only to silence this warning.\n",
            "  corr = push_df.corr()\n"
          ]
        },
        {
          "data": {
            "image/png": "[encoded data removed]",
            "text/plain": [
              "<Figure size 640x480 with 2 Axes>"
            ]
          },
          "metadata": {},
          "output_type": "display_data"
        }
      ],
      "source": [
        "corr = push_df.corr()\n",
        "# Creating a heatmap\n",
        "sns.heatmap(corr)\n",
        "# Showing the plot\n",
        "plt.show()"
      ]
    },
    {
      "cell_type": "markdown",
      "metadata": {
        "id": "q-w4zn6h7s7s"
      },
      "source": [
        "> As we can see, there is no any useful correlation detected\n",
        "\n"
      ]
    },
    {
      "cell_type": "code",
      "execution_count": 11,
      "metadata": {
        "colab": {
          "base_uri": "https://localhost:8080/",
          "height": 793
        },
        "id": "m_jZLOmP7s7t",
        "outputId": "f71010a6-6e5e-4090-b812-08b6eb289ef8"
      },
      "outputs": [
        {
          "name": "stderr",
          "output_type": "stream",
          "text": [
            "<__array_function__ internals>:180: RuntimeWarning: Converting input from bool to <class 'numpy.uint8'> for compatibility.\n"
          ]
        },
        {
          "data": {
            "text/plain": [
              "<seaborn.axisgrid.PairGrid at 0x7fccf3aefb80>"
            ]
          },
          "execution_count": 11,
          "metadata": {},
          "output_type": "execute_result"
        },
        {
          "data": {
            "image/png": "[encoded data removed]",
            "text/plain": [
              "<Figure size 750x750 with 12 Axes>"
            ]
          },
          "metadata": {},
          "output_type": "display_data"
        }
      ],
      "source": [
        "# plot pairplot\n",
        "sns.pairplot(push_df)"
      ]
    },
    {
      "cell_type": "markdown",
      "metadata": {
        "id": "n_C6VTJj7s7u",
        "tags": []
      },
      "source": [
        "## Experiment Design and Planning"
      ]
    },
    {
      "cell_type": "markdown",
      "metadata": {
        "id": "TE6syuJHFFXt"
      },
      "source": [
        "## Goal:\n",
        "Increase the number of users participating in scheduled auctions.\n",
        "## Hypothesis:\n",
        "If we send push notifications closer to the start time of the scheduled auctions (5 mins before start), then more users will participate in these auctions.\n",
        "\n",
        "*   Null Hypothesis (H0): The optimal time to send push notifications before an auction is 15 minutes.\n",
        "*   Alternative Hypothesis (H1): The optimal time to send push notifications before an auction is 5 minutes.\n",
        "\n",
        "## Versions:\n",
        "*   Version A (Control): Push notifications are sent 15 minutes before the auction starts.\n",
        "*   Version B (Test): Push notifications are sent 5 minutes before the auction starts.\n",
        "\n",
        "## Randomization\n",
        "In an effort to determine the optimal timing for push notifications for our scheduled auctions, we conducted an A/B test with a total of 10,000 users. The users were randomly selected from our active user base, ensuring an unbiased sample.\n",
        "The users were then randomly assigned to two groups, each comprising 5,000 users. The first group, Group A, served as our control group. Users in this group received push notifications 15 minutes before the start of an auction, consistent with our current standard practice.\n",
        "The second group, Group B, served as our test group. These users received push notifications 5 minutes before the start of an auction. This change represented our experimental variable, designed to test our hypothesis that sending notifications closer to the start of an auction would increase participation rates.\n",
        "Throughout the testing period, we closely monitored user participation in our scheduled auctions, gathering data to compare the effectiveness of the two different notification timings. Our analysis of this data will allow us to determine which notification timing leads to greater user participation in our scheduled auctions.\n",
        "\n",
        "## Outcomes:\n",
        "- `Bids Initiated Ratio`: Total number of bids/Push recieved\n",
        "- `CTR`: Total number of opens / Push recieved\n",
        "\n",
        "## The rates before we run the test\n",
        ">Baseline:\n",
        "- `BIR`: 0.21\n",
        "- `CTR`: 0.3722\n",
        "\n",
        ">Confidence level = 0.95\n",
        "\n",
        ">Desired power = 0.80\n",
        "\n",
        "Note on sample size: for the the pet-project we won't count a sample size, and we'll have 10K users for test."
      ]
    },
    {
      "cell_type": "markdown",
      "metadata": {
        "id": "WJnnyWUWc7pa"
      },
      "source": [
        "## Results analysis"
      ]
    },
    {
      "cell_type": "code",
      "execution_count": 14,
      "metadata": {
        "id": "KyVmpqvsJIMT"
      },
      "outputs": [],
      "source": [
        "#Checking that our groups are the same size\n",
        "test_results = push_df.groupby(by = ['push_notification'], as_index=False)\n"
      ]
    },
    {
      "cell_type": "code",
      "execution_count": 15,
      "metadata": {
        "colab": {
          "base_uri": "https://localhost:8080/",
          "height": 238
        },
        "id": "tN3huJFSggu2",
        "outputId": "f36b8304-99b5-487a-efe4-f5f244bd1724"
      },
      "outputs": [
        {
          "data": {
            "text/html": [
              "\n",
              "  <div id=\"df-d3c54be7-ac4e-4855-8b2a-d67c5336e947\">\n",
              "    <div class=\"colab-df-container\">\n",
              "      <div>\n",
              "<style scoped>\n",
              "    .dataframe tbody tr th:only-of-type {\n",
              "        vertical-align: middle;\n",
              "    }\n",
              "\n",
              "    .dataframe tbody tr th {\n",
              "        vertical-align: top;\n",
              "    }\n",
              "\n",
              "    .dataframe thead th {\n",
              "        text-align: right;\n",
              "    }\n",
              "</style>\n",
              "<table border=\"1\" class=\"dataframe\">\n",
              "  <thead>\n",
              "    <tr style=\"text-align: right;\">\n",
              "      <th></th>\n",
              "      <th>state</th>\n",
              "      <th>push_notification</th>\n",
              "      <th>uid</th>\n",
              "    </tr>\n",
              "  </thead>\n",
              "  <tbody>\n",
              "    <tr>\n",
              "      <th>0</th>\n",
              "      <td>ARIZONA</td>\n",
              "      <td>A</td>\n",
              "      <td>1665</td>\n",
              "    </tr>\n",
              "    <tr>\n",
              "      <th>1</th>\n",
              "      <td>ARIZONA</td>\n",
              "      <td>B</td>\n",
              "      <td>1668</td>\n",
              "    </tr>\n",
              "    <tr>\n",
              "      <th>2</th>\n",
              "      <td>COLORADO</td>\n",
              "      <td>A</td>\n",
              "      <td>1668</td>\n",
              "    </tr>\n",
              "    <tr>\n",
              "      <th>3</th>\n",
              "      <td>COLORADO</td>\n",
              "      <td>B</td>\n",
              "      <td>1665</td>\n",
              "    </tr>\n",
              "    <tr>\n",
              "      <th>4</th>\n",
              "      <td>UTAH</td>\n",
              "      <td>A</td>\n",
              "      <td>1666</td>\n",
              "    </tr>\n",
              "    <tr>\n",
              "      <th>5</th>\n",
              "      <td>UTAH</td>\n",
              "      <td>B</td>\n",
              "      <td>1668</td>\n",
              "    </tr>\n",
              "  </tbody>\n",
              "</table>\n",
              "</div>\n",
              "      <button class=\"colab-df-convert\" onclick=\"convertToInteractive('df-d3c54be7-ac4e-4855-8b2a-d67c5336e947')\"\n",
              "              title=\"Convert this dataframe to an interactive table.\"\n",
              "              style=\"display:none;\">\n",
              "        \n",
              "  <svg xmlns=\"http://www.w3.org/2000/svg\" height=\"24px\"viewBox=\"0 0 24 24\"\n",
              "       width=\"24px\">\n",
              "    <path d=\"M0 0h24v24H0V0z\" fill=\"none\"/>\n",
              "    <path d=\"M18.56 5.44l.94 2.06.94-2.06 2.06-.94-2.06-.94-.94-2.06-.94 2.06-2.06.94zm-11 1L8.5 8.5l.94-2.06 2.06-.94-2.06-.94L8.5 2.5l-.94 2.06-2.06.94zm10 10l.94 2.06.94-2.06 2.06-.94-2.06-.94-.94-2.06-.94 2.06-2.06.94z\"/><path d=\"M17.41 7.96l-1.37-1.37c-.4-.4-.92-.59-1.43-.59-.52 0-1.04.2-1.43.59L10.3 9.45l-7.72 7.72c-.78.78-.78 2.05 0 2.83L4 21.41c.39.39.9.59 1.41.59.51 0 1.02-.2 1.41-.59l7.78-7.78 2.81-2.81c.8-.78.8-2.07 0-2.86zM5.41 20L4 18.59l7.72-7.72 1.47 1.35L5.41 20z\"/>\n",
              "  </svg>\n",
              "      </button>\n",
              "      \n",
              "  <style>\n",
              "    .colab-df-container {\n",
              "      display:flex;\n",
              "      flex-wrap:wrap;\n",
              "      gap: 12px;\n",
              "    }\n",
              "\n",
              "    .colab-df-convert {\n",
              "      background-color: #E8F0FE;\n",
              "      border: none;\n",
              "      border-radius: 50%;\n",
              "      cursor: pointer;\n",
              "      display: none;\n",
              "      fill: #1967D2;\n",
              "      height: 32px;\n",
              "      padding: 0 0 0 0;\n",
              "      width: 32px;\n",
              "    }\n",
              "\n",
              "    .colab-df-convert:hover {\n",
              "      background-color: #E2EBFA;\n",
              "      box-shadow: 0px 1px 2px rgba(60, 64, 67, 0.3), 0px 1px 3px 1px rgba(60, 64, 67, 0.15);\n",
              "      fill: #174EA6;\n",
              "    }\n",
              "\n",
              "    [theme=dark] .colab-df-convert {\n",
              "      background-color: #3B4455;\n",
              "      fill: #D2E3FC;\n",
              "    }\n",
              "\n",
              "    [theme=dark] .colab-df-convert:hover {\n",
              "      background-color: #434B5C;\n",
              "      box-shadow: 0px 1px 3px 1px rgba(0, 0, 0, 0.15);\n",
              "      filter: drop-shadow(0px 1px 2px rgba(0, 0, 0, 0.3));\n",
              "      fill: #FFFFFF;\n",
              "    }\n",
              "  </style>\n",
              "\n",
              "      <script>\n",
              "        const buttonEl =\n",
              "          document.querySelector('#df-d3c54be7-ac4e-4855-8b2a-d67c5336e947 button.colab-df-convert');\n",
              "        buttonEl.style.display =\n",
              "          google.colab.kernel.accessAllowed ? 'block' : 'none';\n",
              "\n",
              "        async function convertToInteractive(key) {\n",
              "          const element = document.querySelector('#df-d3c54be7-ac4e-4855-8b2a-d67c5336e947');\n",
              "          const dataTable =\n",
              "            await google.colab.kernel.invokeFunction('convertToInteractive',\n",
              "                                                     [key], {});\n",
              "          if (!dataTable) return;\n",
              "\n",
              "          const docLinkHtml = 'Like what you see? Visit the ' +\n",
              "            '<a target=\"_blank\" href=https://colab.research.google.com/notebooks/data_table.ipynb>data table notebook</a>'\n",
              "            + ' to learn more about interactive tables.';\n",
              "          element.innerHTML = '';\n",
              "          dataTable['output_type'] = 'display_data';\n",
              "          await google.colab.output.renderOutput(dataTable, element);\n",
              "          const docLink = document.createElement('div');\n",
              "          docLink.innerHTML = docLinkHtml;\n",
              "          element.appendChild(docLink);\n",
              "        }\n",
              "      </script>\n",
              "    </div>\n",
              "  </div>\n",
              "  "
            ],
            "text/plain": [
              "      state push_notification   uid\n",
              "0   ARIZONA                 A  1665\n",
              "1   ARIZONA                 B  1668\n",
              "2  COLORADO                 A  1668\n",
              "3  COLORADO                 B  1665\n",
              "4      UTAH                 A  1666\n",
              "5      UTAH                 B  1668"
            ]
          },
          "execution_count": 15,
          "metadata": {},
          "output_type": "execute_result"
        }
      ],
      "source": [
        "#Checking demographics\n",
        "test_results = push_df.groupby(by = ['state','push_notification'], as_index=False)\n",
        "test_results.uid.count()"
      ]
    },
    {
      "cell_type": "markdown",
      "metadata": {
        "id": "wxc-xIWp3xNI"
      },
      "source": [
        "##Test vs control group"
      ]
    },
    {
      "cell_type": "code",
      "execution_count": 17,
      "metadata": {
        "colab": {
          "base_uri": "https://localhost:8080/"
        },
        "id": "_5uxG--brCcp",
        "outputId": "4e9fb095-9ec1-48d7-f9ac-524c46d903d7"
      },
      "outputs": [
        {
          "data": {
            "text/plain": [
              "0.3632"
            ]
          },
          "execution_count": 17,
          "metadata": {},
          "output_type": "execute_result"
        }
      ],
      "source": [
        "#CTR: Total number of logins / Push recieved\n",
        "#CTR for A\n",
        "# Combining the 'log_date' and 'time' columns into a single datetime column\n",
        "push_df['datetime'] = pd.to_datetime(push_df['log_date'] + ' ' + push_df['time'])\n",
        "\n",
        "# Filter rows for a specific date and time\n",
        "filtered_df_A = push_df[(push_df['datetime'] == '2022-03-02 08:00:00') | (push_df['datetime'] == '2022-03-10 09:15:00')|(push_df['datetime'] == '2022-03-25 14:25:00')]\n",
        "\n",
        "ctr_A = filtered_df_A.shape[0]/5000\n",
        "\n",
        "ctr_A"
      ]
    },
    {
      "cell_type": "code",
      "execution_count": 18,
      "metadata": {
        "colab": {
          "base_uri": "https://localhost:8080/"
        },
        "id": "hSQQjOeX0eVt",
        "outputId": "c77a3a24-b433-4a5f-f7a6-8ff160b3c770"
      },
      "outputs": [
        {
          "data": {
            "text/plain": [
              "0.6674"
            ]
          },
          "execution_count": 18,
          "metadata": {},
          "output_type": "execute_result"
        }
      ],
      "source": [
        "#CTR for B\n",
        "\n",
        "# Filter rows for a specific date and time\n",
        "filtered_df_B = push_df[(push_df['datetime'] == '2022-03-02 08:10:00') | (push_df['datetime'] == '2022-03-10 09:25:00')|(push_df['datetime'] == '2022-03-25 14:35:00')]\n",
        "\n",
        "ctr_B = filtered_df_B.shape[0]/5000\n",
        "ctr_B\n"
      ]
    },
    {
      "cell_type": "code",
      "execution_count": 19,
      "metadata": {
        "colab": {
          "base_uri": "https://localhost:8080/"
        },
        "id": "JyAS9wPHiZkm",
        "outputId": "d2bcd0f2-b4f4-4962-9d00-eca002a73700"
      },
      "outputs": [
        {
          "data": {
            "text/plain": [
              "0.204"
            ]
          },
          "execution_count": 19,
          "metadata": {},
          "output_type": "execute_result"
        }
      ],
      "source": [
        "#Bids Initiated Ratio: Total number of bids/Push recieved\n",
        "#bir_A\n",
        "# Filter bids for group A\n",
        "bids_A = push_df[(push_df['push_notification'] == 'A') & (push_df['bidded'] == True)]\n",
        "total_bids_A = bids_A.shape[0]\n",
        "bir_A = total_bids_A/5000\n",
        "bir_A"
      ]
    },
    {
      "cell_type": "code",
      "execution_count": 20,
      "metadata": {
        "colab": {
          "base_uri": "https://localhost:8080/"
        },
        "id": "QJqsa5lHpM4O",
        "outputId": "6b44e00a-d827-4c8b-b7cc-f35653ba5a2f"
      },
      "outputs": [
        {
          "data": {
            "text/plain": [
              "0.2888"
            ]
          },
          "execution_count": 20,
          "metadata": {},
          "output_type": "execute_result"
        }
      ],
      "source": [
        "#bir_B\n",
        "# Filter bids for group B\n",
        "bids_B = push_df[(push_df['push_notification'] == 'B') & (push_df['bidded'] == True)]\n",
        "total_bids_B = bids_B.shape[0]\n",
        "bir_B = total_bids_B/5000\n",
        "bir_B"
      ]
    },
    {
      "cell_type": "markdown",
      "metadata": {
        "id": "eZrEBoSU8Qz9"
      },
      "source": [
        " ## Checking if the result is statisctically significant\n",
        " Since we are discussing an A/B test scenario with two groups (A and B) and we're interested in whether there's a significant difference between the proportions of users who participated in the auctions from these groups, we could use a two-proportion z-test."
      ]
    },
    {
      "cell_type": "code",
      "execution_count": 21,
      "metadata": {
        "colab": {
          "base_uri": "https://localhost:8080/"
        },
        "id": "-jQST2Lb_l4D",
        "outputId": "c33743fe-d059-43cb-dba2-cc5f46290512"
      },
      "outputs": [
        {
          "data": {
            "text/plain": [
              "(-30.434252045165106, 1.9357373896023113e-203)"
            ]
          },
          "execution_count": 21,
          "metadata": {},
          "output_type": "execute_result"
        }
      ],
      "source": [
        "#But let's check CTR, as this metric is a bit more sensitive.\n",
        "# count: the number of successes (users who participated) in each group\n",
        "count = np.array([filtered_df_A.uid.count()  , filtered_df_B.uid.count() ])\n",
        "\n",
        "# nobs: the number of observations (total users) in each group\n",
        "nobs = np.array([5000, 5000])\n",
        "\n",
        "# Perform the two-proportion z-test\n",
        "z_stat, p_value = proportions_ztest(count, nobs, alternative='two-sided')\n",
        "z_stat, p_value"
      ]
    },
    {
      "cell_type": "markdown",
      "metadata": {
        "id": "fci3sxjrDm8C"
      },
      "source": [
        "The provided values are again the z-score and the p-value. The z-score of -30.4343 is very large in magnitude, suggesting a significant difference between the two groups, and the p-value is extremely small (essentially zero), much smaller than the standard threshold of 0.05.\n",
        "\n",
        "Given that group A is the 15-minute notification group and group B is the 5-minute notification group, a negative z-score indicates that group B (the 5-minute notification group) performs significantly better on this metric than group A (the 15-minute notification group)."
      ]
    },
    {
      "cell_type": "code",
      "execution_count": 22,
      "metadata": {
        "colab": {
          "base_uri": "https://localhost:8080/"
        },
        "id": "slu4LTeV94jK",
        "outputId": "c7f3af28-2db5-4716-cde6-fe073fa4732e"
      },
      "outputs": [
        {
          "data": {
            "text/plain": [
              "(-9.839545989932812, 7.605326137715742e-23)"
            ]
          },
          "execution_count": 22,
          "metadata": {},
          "output_type": "execute_result"
        }
      ],
      "source": [
        "# count: the number of successes (users who participated) in each group\n",
        "count = np.array([total_bids_A, total_bids_B])\n",
        "\n",
        "# nobs: the number of observations (total users) in each group\n",
        "nobs = np.array([5000, 5000])\n",
        "\n",
        "# Perform the two-proportion z-test\n",
        "z_stat, p_value = proportions_ztest(count, nobs, alternative='two-sided')\n",
        "z_stat, p_value"
      ]
    },
    {
      "cell_type": "markdown",
      "metadata": {
        "id": "DwRDTDEz_J8U"
      },
      "source": [
        "Given this arrangement, z-score and p-value suggest a significant difference in user participation between the two groups. More specifically, the negative z-score indicates that group B (5-minute notification group) has a significantly higher participation rate than group A (15-minute notification group).\n",
        "\n",
        "The extremely small p-value (7.61e-23) is much less than 0.05, the common threshold for significance in such tests. This leads us to reject the null hypothesis (which states that there's no difference in participation between notifications sent 15 minutes and 5 minutes before auction).\n",
        "\n",
        "In conclusion, A/B test results provide strong statistical evidence that sending push notifications 5 minutes before the start of an auction results in a higher participation rate compared to sending them 15 minutes before the start."
      ]
    },
    {
      "cell_type": "code",
      "execution_count": 23,
      "metadata": {
        "colab": {
          "base_uri": "https://localhost:8080/"
        },
        "id": "a4WZPZ2AEAJr",
        "outputId": "1bd04c97-0e6d-43b1-ddb2-793f47f501f6"
      },
      "outputs": [
        {
          "name": "stdout",
          "output_type": "stream",
          "text": [
            "Confidence interval for group A: (0.19283047495065617, 0.2151695250493438)\n",
            "Confidence interval for group B: (0.276238035629452, 0.301361964370548)\n"
          ]
        }
      ],
      "source": [
        "\n",
        "# Calculate confidence interval for group A\n",
        "conf_int_A = proportion_confint(total_bids_A, 5000, alpha=0.05)\n",
        "\n",
        "# Calculate confidence interval for group B\n",
        "conf_int_B = proportion_confint(total_bids_B, 5000, alpha=0.05)\n",
        "\n",
        "# Print confidence intervals\n",
        "print('Confidence interval for group A:', conf_int_A)\n",
        "print('Confidence interval for group B:', conf_int_B)"
      ]
    },
    {
      "cell_type": "code",
      "execution_count": 24,
      "metadata": {
        "colab": {
          "base_uri": "https://localhost:8080/",
          "height": 472
        },
        "id": "wsn1Ep6gJLw4",
        "outputId": "595f5c86-ea24-4e98-b15c-abf54a6ee533"
      },
      "outputs": [
        {
          "data": {
            "image/png": "[encoded data removed]",
            "text/plain": [
              "<Figure size 640x480 with 1 Axes>"
            ]
          },
          "metadata": {},
          "output_type": "display_data"
        }
      ],
      "source": [
        "import matplotlib.pyplot as plt\n",
        "\n",
        "# Names of groups\n",
        "groups = ['Group A', 'Group B']\n",
        "\n",
        "# Point estimates - the midpoint of each confidence interval\n",
        "estimates = [(0.19283047495065617 + 0.2151695250493438) / 2,\n",
        "             (0.276238035629452 + 0.301361964370548) / 2]\n",
        "\n",
        "# Confidence intervals - the range of each confidence interval\n",
        "cis = [(0.2151695250493438 - 0.19283047495065617) / 2,\n",
        "       (0.301361964370548 - 0.276238035629452) / 2]\n",
        "\n",
        "plt.errorbar(groups, estimates, yerr=cis, fmt='o')\n",
        "plt.title('Confidence Intervals for Groups A and B')\n",
        "plt.xlabel('Group')\n",
        "plt.ylabel('Participation Rate')\n",
        "plt.show()\n"
      ]
    },
    {
      "cell_type": "markdown",
      "metadata": {
        "id": "gSsiguxvFhnO"
      },
      "source": [
        "The confidence intervals for groups A and B suggest that there is indeed a significant difference between the two groups. The 95% confidence interval for the participation rate of group A (15-minute notifications) is approximately 0.193 to 0.215, and for group B (5-minute notifications) it's approximately 0.276 to 0.301.\n",
        "\n",
        "Since the confidence intervals for groups A and B do not overlap, this provides further evidence that the difference in participation rates between the two groups is statistically significant."
      ]
    },
    {
      "cell_type": "markdown",
      "metadata": {
        "id": "WTCw5hLNHHho"
      },
      "source": [
        "## Recommendations:\n",
        "\n",
        "Taking into account this isolated experiment conducted for a pet-project, and based on the statistical results obtained, my recommendation is to change the push notification time to 5 minutes before the start of the auction.\n",
        "\n",
        "However, there are several other areas that could be explored in future studies to optimize user participation in the auctions. These include:\n",
        "\n",
        "- Extending the experiment to include a broader range of locations and time zones. This could help us understand if the optimal notification timing varies based on geographical location or cultural differences.\n",
        "\n",
        "- Investigating if there is any correlation between the date (or day of the week) and the participation rate. This could provide insights into whether certain days are more effective for auctions than others.\n",
        "\n",
        "- Considering the addition of other notification options aside from push notifications. For instance, offering users the option to add a reminder to their calendar might give them more control over when they're notified. Alternatively, the feature could be added directly to the app, allowing for in-app reminders.\n",
        "\n",
        "By exploring these additional factors, we could potentially develop an even more effective strategy for increasing user participation in our scheduled auctions."
      ]
    }
  ],
  "metadata": {
    "colab": {
      "provenance": []
    },
    "kernelspec": {
      "display_name": "Python 3.10.6 64-bit",
      "language": "python",
      "name": "python3"
    },
    "language_info": {
      "codemirror_mode": {
        "name": "python",
        "version": 3
      },
      "file_extension": ".py",
      "mimetype": "text/x-python",
      "name": "python",
      "nbconvert_exporter": "python",
      "pygments_lexer": "ipython3",
      "version": "3.10.6"
    },
    "vscode": {
      "interpreter": {
        "hash": "aee8b7b246df8f9039afb4144a1f6fd8d2ca17a180786b69acc140d282b71a49"
      }
    }
  },
  "nbformat": 4,
  "nbformat_minor": 0
}
