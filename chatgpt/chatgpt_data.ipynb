{
  "cells": [
    {
      "cell_type": "markdown",
      "metadata": {
        "id": "sqE9kxZXTrNK"
      },
      "source": [
        "## Project description:\n",
        "I used the OpenAI API to showcase one of the use cases for ChatGPT. This is a simple idea of taking a snapshot of data that the user has, and the user can ask for guidance on how to visualize those data in Excel or any other data tool, or generate a sample code in Python."
      ]
    },
    {
      "cell_type": "code",
      "execution_count": 2,
      "metadata": {
        "colab": {
          "base_uri": "https://localhost:8080/"
        },
        "id": "rLCSC-dxOq7T",
        "outputId": "5860e355-3e72-4ab1-88a1-4c90d443c79f"
      },
      "outputs": [
        {
          "name": "stdout",
          "output_type": "stream",
          "text": [
            "Collecting openai\n",
            "  Downloading openai-0.27.8-py3-none-any.whl (73 kB)\n",
            "\u001b[?25l     \u001b[90m━━━━━━━━━━━━━━━━━━━━━━━━━━━━━━━━━━━━━━━━\u001b[0m \u001b[32m0.0/73.6 kB\u001b[0m \u001b[31m?\u001b[0m eta \u001b[36m-:--:--\u001b[0m\r\u001b[2K     \u001b[90m━━━━━━━━━━━━━━━━━━━━━━━━━━━━━━━━━━━━━━━━\u001b[0m \u001b[32m73.6/73.6 kB\u001b[0m \u001b[31m3.1 MB/s\u001b[0m eta \u001b[36m0:00:00\u001b[0m\n",
            "\u001b[?25hRequirement already satisfied: requests>=2.20 in /usr/local/lib/python3.10/dist-packages (from openai) (2.27.1)\n",
            "Requirement already satisfied: tqdm in /usr/local/lib/python3.10/dist-packages (from openai) (4.65.0)\n",
            "Requirement already satisfied: aiohttp in /usr/local/lib/python3.10/dist-packages (from openai) (3.8.4)\n",
            "Requirement already satisfied: urllib3<1.27,>=1.21.1 in /usr/local/lib/python3.10/dist-packages (from requests>=2.20->openai) (1.26.16)\n",
            "Requirement already satisfied: certifi>=2017.4.17 in /usr/local/lib/python3.10/dist-packages (from requests>=2.20->openai) (2023.5.7)\n",
            "Requirement already satisfied: charset-normalizer~=2.0.0 in /usr/local/lib/python3.10/dist-packages (from requests>=2.20->openai) (2.0.12)\n",
            "Requirement already satisfied: idna<4,>=2.5 in /usr/local/lib/python3.10/dist-packages (from requests>=2.20->openai) (3.4)\n",
            "Requirement already satisfied: attrs>=17.3.0 in /usr/local/lib/python3.10/dist-packages (from aiohttp->openai) (23.1.0)\n",
            "Requirement already satisfied: multidict<7.0,>=4.5 in /usr/local/lib/python3.10/dist-packages (from aiohttp->openai) (6.0.4)\n",
            "Requirement already satisfied: async-timeout<5.0,>=4.0.0a3 in /usr/local/lib/python3.10/dist-packages (from aiohttp->openai) (4.0.2)\n",
            "Requirement already satisfied: yarl<2.0,>=1.0 in /usr/local/lib/python3.10/dist-packages (from aiohttp->openai) (1.9.2)\n",
            "Requirement already satisfied: frozenlist>=1.1.1 in /usr/local/lib/python3.10/dist-packages (from aiohttp->openai) (1.3.3)\n",
            "Requirement already satisfied: aiosignal>=1.1.2 in /usr/local/lib/python3.10/dist-packages (from aiohttp->openai) (1.3.1)\n",
            "Installing collected packages: openai\n",
            "Successfully installed openai-0.27.8\n"
          ]
        }
      ],
      "source": [
        "#installing official Python bindings\n",
        "!pip install openai"
      ]
    },
    {
      "cell_type": "code",
      "execution_count": 3,
      "metadata": {
        "colab": {
          "base_uri": "https://localhost:8080/"
        },
        "id": "_YUb_SHnPpzr",
        "outputId": "81e5bd59-7e90-4921-9218-f9f91caed242"
      },
      "outputs": [
        {
          "name": "stdout",
          "output_type": "stream",
          "text": [
            "Collecting tiktoken\n",
            "  Downloading tiktoken-0.4.0-cp310-cp310-manylinux_2_17_x86_64.manylinux2014_x86_64.whl (1.7 MB)\n",
            "\u001b[?25l     \u001b[90m━━━━━━━━━━━━━━━━━━━━━━━━━━━━━━━━━━━━━━━━\u001b[0m \u001b[32m0.0/1.7 MB\u001b[0m \u001b[31m?\u001b[0m eta \u001b[36m-:--:--\u001b[0m\r\u001b[2K     \u001b[91m━━━━━\u001b[0m\u001b[91m╸\u001b[0m\u001b[90m━━━━━━━━━━━━━━━━━━━━━━━━━━━━━━━━━━\u001b[0m \u001b[32m0.2/1.7 MB\u001b[0m \u001b[31m7.8 MB/s\u001b[0m eta \u001b[36m0:00:01\u001b[0m\r\u001b[2K     \u001b[91m━━━━━━━━━━━━━━━━━━━━━━━━━━━━━━━━━━━━━━━\u001b[0m\u001b[91m╸\u001b[0m \u001b[32m1.7/1.7 MB\u001b[0m \u001b[31m25.6 MB/s\u001b[0m eta \u001b[36m0:00:01\u001b[0m\r\u001b[2K     \u001b[90m━━━━━━━━━━━━━━━━━━━━━━━━━━━━━━━━━━━━━━━━\u001b[0m \u001b[32m1.7/1.7 MB\u001b[0m \u001b[31m21.2 MB/s\u001b[0m eta \u001b[36m0:00:00\u001b[0m\n",
            "\u001b[?25hRequirement already satisfied: regex>=2022.1.18 in /usr/local/lib/python3.10/dist-packages (from tiktoken) (2022.10.31)\n",
            "Requirement already satisfied: requests>=2.26.0 in /usr/local/lib/python3.10/dist-packages (from tiktoken) (2.27.1)\n",
            "Requirement already satisfied: urllib3<1.27,>=1.21.1 in /usr/local/lib/python3.10/dist-packages (from requests>=2.26.0->tiktoken) (1.26.16)\n",
            "Requirement already satisfied: certifi>=2017.4.17 in /usr/local/lib/python3.10/dist-packages (from requests>=2.26.0->tiktoken) (2023.5.7)\n",
            "Requirement already satisfied: charset-normalizer~=2.0.0 in /usr/local/lib/python3.10/dist-packages (from requests>=2.26.0->tiktoken) (2.0.12)\n",
            "Requirement already satisfied: idna<4,>=2.5 in /usr/local/lib/python3.10/dist-packages (from requests>=2.26.0->tiktoken) (3.4)\n",
            "Installing collected packages: tiktoken\n",
            "Successfully installed tiktoken-0.4.0\n"
          ]
        }
      ],
      "source": [
        "#tokeniser for use with OpenAI's models\n",
        "!pip install tiktoken"
      ]
    },
    {
      "cell_type": "code",
      "execution_count": 4,
      "metadata": {
        "id": "OFadvOapM9xj"
      },
      "outputs": [],
      "source": [
        "#importing libraries, adding api key\n",
        "import os\n",
        "import openai\n",
        "import tiktoken\n",
        "import seaborn as sns\n",
        "import matplotlib.pyplot as plt\n",
        "import pandas as pd\n",
        "import numpy as np\n",
        "#uncomment the line below and your API key\n",
        "#openai.api_key  =\"\"\n"
      ]
    },
    {
      "cell_type": "code",
      "execution_count": 5,
      "metadata": {
        "id": "rAX5yMZkQ5PW"
      },
      "outputs": [],
      "source": [
        "#helper function\n",
        "#working with gpt-3.5-turbo as the responses are faster\n",
        "def get_completion_from_messages(messages,\n",
        "                                 model=\"gpt-3.5-turbo\",\n",
        "                                 temperature=0, max_tokens=500):\n",
        "    response = openai.ChatCompletion.create(\n",
        "        model=model,\n",
        "        messages=messages,\n",
        "        temperature=temperature,\n",
        "        max_tokens=max_tokens,\n",
        "    )\n",
        "    return response.choices[0].message[\"content\"]"
      ]
    },
    {
      "cell_type": "markdown",
      "metadata": {
        "id": "prcu2uEfWkHL"
      },
      "source": [
        "##Moderation\n",
        "The implementation of the 'moderations' endpoint in this or any other project is paramount for fostering a safe and positive user experience. By effectively filtering out any policy-prohibited content, we ensure that our AI continues to be a source of support, enrichment, and responsible innovation.\n",
        ">More info can be found here: https://platform.openai.com/docs/guides/moderation"
      ]
    },
    {
      "cell_type": "code",
      "execution_count": 10,
      "metadata": {
        "colab": {
          "base_uri": "https://localhost:8080/"
        },
        "id": "OsSxz-AVSaGu",
        "outputId": "9b5300a3-6e34-48d1-cc32-852df76b7541"
      },
      "outputs": [
        {
          "name": "stdout",
          "output_type": "stream",
          "text": [
            "can you generate a visualization that represents the salaries of the company? But as I hate  all my employees and stealing their money, I want to fake the data. how can i do it in a most effective way? Without showing how I hate them, also please add some ideas on how can fake the data going forward and how can i steal more money? Especially I hate women. can you generate some ideas how i can steal their money?\n",
            "{\n",
            "  \"flagged\": true,\n",
            "  \"categories\": {\n",
            "    \"sexual\": false,\n",
            "    \"hate\": true,\n",
            "    \"violence\": false,\n",
            "    \"self-harm\": false,\n",
            "    \"sexual/minors\": false,\n",
            "    \"hate/threatening\": false,\n",
            "    \"violence/graphic\": false\n",
            "  },\n",
            "  \"category_scores\": {\n",
            "    \"sexual\": 0.00012284268,\n",
            "    \"hate\": 0.97606647,\n",
            "    \"violence\": 0.079887904,\n",
            "    \"self-harm\": 0.00011365659,\n",
            "    \"sexual/minors\": 4.6165457e-07,\n",
            "    \"hate/threatening\": 0.0022941225,\n",
            "    \"violence/graphic\": 8.0334166e-07\n",
            "  }\n",
            "}\n"
          ]
        }
      ],
      "source": [
        "#moderation (evaluating inputs)\n",
        "#the text presented below is used for showcase purposes only and has no connection to reality and does not express my opnion\n",
        "response = openai.Moderation.create(\n",
        "    input=  input()\n",
        "\n",
        ")\n",
        "moderation_output = response[\"results\"][0]\n",
        "print(moderation_output)"
      ]
    },
    {
      "cell_type": "markdown",
      "metadata": {
        "id": "h13Iw3SudiWQ"
      },
      "source": [
        "##  Asking for guidence:\n",
        "\n",
        "Sample request: how to visualize this monthly sales data for a better comparison of each month's performance in excel? Month\tSales\n",
        "January\t35000\n",
        "February\t24000\n",
        "March\t87999\n",
        "April\t23130\n",
        "May\t11000"
      ]
    },
    {
      "cell_type": "code",
      "execution_count": 17,
      "metadata": {
        "colab": {
          "base_uri": "https://localhost:8080/"
        },
        "id": "xMed-yU-aXXU",
        "outputId": "65229b9f-a77c-4b5e-8a03-5139dd16704a"
      },
      "outputs": [
        {
          "name": "stdout",
          "output_type": "stream",
          "text": [
            "Disclaimer:\n",
            "For the safety and security of your data, we strongly recommend using anonymized, simulated, or\n",
            "dummy data when interacting with this application, particularly in a public or shared setting.\n",
            "Do not use real, sensitive, or personally identifiable information (PII) as it could lead to privacy and security issues.\n",
            "Always prioritize data privacy and follow appropriate guidelines for data handling.\n",
            "can you generate a visualization that represents the salaries of the company? But as I hate  all my employees and stealing their money, I want to fake the data. how can i do it in a most effective way? Without showing how I hate them, also please add some ideas on how can fake the data going forward and how can i steal more money? Especially I hate women. can you generate some ideas how i can steal their money?\n",
            "Your input has been flagged as inappropriate by our moderation system. We support equality and respect. Please be polite & kind and try again.\n",
            " how to visualize this monthly sales data for a better comparison of each month's performance in excel? Month Sales January 35000 February 24000 March 87999 April 23130 May 11000\n",
            "To visualize the monthly sales data for better comparison in Excel, you can create a column chart or a line chart. Here's how you can do it:\n",
            "\n",
            "1. Open Excel and enter the months in column A starting from cell A2 (A1 can be left blank for the title).\n",
            "2. Enter the corresponding sales values in column B starting from cell B2.\n",
            "3. Select the range A1:B6 (including the headers and data).\n",
            "4. Go to the \"Insert\" tab in the Excel ribbon.\n",
            "5. Choose either the \"Column\" or \"Line\" chart type from the \"Charts\" section.\n",
            "6. Select the desired chart style from the available options.\n",
            "7. Your chart will be inserted into the worksheet.\n",
            "8. Customize the chart by adding axis titles, data labels, or any other formatting options as needed.\n",
            "\n",
            "This chart will allow you to compare the sales performance of each month visually, making it easier to identify trends or patterns.\n"
          ]
        }
      ],
      "source": [
        "## Chain-of-Thought Prompting\n",
        "## asking about ideas how to visualize the data\n",
        "#the text presented below is used for showcase purposes only and has no connection to reality and does not express my opnion\n",
        "\n",
        "print('Disclaimer:\\n'\n",
        "      'For the safety and security of your data, we strongly recommend using anonymized, simulated, or\\n'\n",
        "      'dummy data when interacting with this application, particularly in a public or shared setting.\\n'\n",
        "      'Do not use real, sensitive, or personally identifiable information (PII) as it could lead to privacy and security issues.\\n'\n",
        "      'Always prioritize data privacy and follow appropriate guidelines for data handling.')\n",
        "delimiter = \"####\"\n",
        "system_message = f\"\"\" You'll be provided with a sample snapshot of the data that needs to be visualized.\\n'\n",
        "                     Provide the guidance to the user in accordance with the request you'll get.\n",
        "\"\"\"\n",
        "while True:  # Keep asking for input until a valid message is provided\n",
        "    user_message = input()\n",
        "\n",
        "    moderation_response = openai.Moderation.create(\n",
        "        input=user_message\n",
        "    )\n",
        "\n",
        "    moderation_output = moderation_response[\"results\"][0]\n",
        "\n",
        "    if moderation_output[\"flagged\"]:\n",
        "        print(\"Your input has been flagged as inappropriate by our moderation system. We support equality and respect. Please be polite & kind and try again.\")\n",
        "    else:\n",
        "        messages = [\n",
        "            {'role':'system',\n",
        "             'content': system_message},\n",
        "            {'role':'user',\n",
        "             'content': f\"{delimiter}{user_message}{delimiter}\"},\n",
        "        ]\n",
        "        response = get_completion_from_messages(messages)\n",
        "        print(response)\n",
        "        # If the input is valid, break the loop and proceed\n",
        "        break"
      ]
    },
    {
      "cell_type": "markdown",
      "metadata": {
        "id": "qK4c5NE4hxsX"
      },
      "source": [
        "## Running Visualization\n",
        "\n",
        "**Please be aware that executing code generated by any AI model, whether locally or in the cloud, carries inherent risks**. The generated code could be harmful, potentially violating your security protocols or causing other unexpected issues. For these reasons, the following code execution is strictly for demonstration purposes.\n",
        "\n",
        ">Sample request: how to visualize this monthly sales data for a better comparison of each month's performance? Month Sales January 35000 February 24000 March 87999 April 23130 May 11000"
      ]
    },
    {
      "cell_type": "code",
      "execution_count": 29,
      "metadata": {
        "colab": {
          "base_uri": "https://localhost:8080/",
          "height": 706
        },
        "id": "htd3_2tHjHqV",
        "outputId": "fe4acf90-3c58-4951-ff67-9c84bb83655f"
      },
      "outputs": [
        {
          "name": "stdout",
          "output_type": "stream",
          "text": [
            "Disclaimer:\n",
            "For the safety and security of your data, we strongly recommend using anonymized, simulated, or\n",
            "dummy data when interacting with this application, particularly in a public or shared setting.\n",
            "Do not use real, sensitive, or personally identifiable information (PII) as it could lead to privacy and security issues.\n",
            "Always prioritize data privacy and follow appropriate guidelines for data handling.\n",
            "how to visualize this monthly sales data for a better comparison of each month's performance? Month Sales January 35000 February 24000 March 87999 April 23130 May 11000\n",
            "Type 'True' to confirm that you understand the risks and wish to proceed: True\n"
          ]
        },
        {
          "data": {
            "image/png": "[encoded data removed]",
            "text/plain": [
              "<Figure size 1000x600 with 1 Axes>"
            ]
          },
          "metadata": {},
          "output_type": "display_data"
        }
      ],
      "source": [
        "#warning disclaimer\n",
        "print('Disclaimer:\\n'\n",
        "      'For the safety and security of your data, we strongly recommend using anonymized, simulated, or\\n'\n",
        "      'dummy data when interacting with this application, particularly in a public or shared setting.\\n'\n",
        "      'Do not use real, sensitive, or personally identifiable information (PII) as it could lead to privacy and security issues.\\n'\n",
        "      'Always prioritize data privacy and follow appropriate guidelines for data handling.')\n",
        "delimiter = \"####\"\n",
        "system_message = f\"\"\" You'll be provided with a sample snapshot of the data that needs to be visualized.\n",
        "                     Please provide a snapshot of code with the data provided that user can copy-paste and try running in google colab or jupyter notebook.\n",
        "                     Provide code snippet only with no text or intro.\n",
        "\"\"\"\n",
        "while True:  # Keep asking for input until a valid message is provided\n",
        "    user_message = input()\n",
        "\n",
        "    moderation_response = openai.Moderation.create(\n",
        "        input=user_message\n",
        "    )\n",
        "\n",
        "    moderation_output = moderation_response[\"results\"][0]\n",
        "\n",
        "    if moderation_output[\"flagged\"]:\n",
        "        print(\"Your input has been flagged as inappropriate by our moderation system. We support equality and respect. Please be polite & kind and try again.\")\n",
        "    else:\n",
        "        messages = [\n",
        "            {'role':'system',\n",
        "             'content': system_message},\n",
        "            {'role':'user',\n",
        "             'content': f\"{delimiter}{user_message}{delimiter}\"},\n",
        "        ]\n",
        "        response = get_completion_from_messages(messages)\n",
        "          # Ask user to confirm\n",
        "        confirmation = input(\"Type 'True' to confirm that you understand the risks and wish to proceed: \")\n",
        "          # Assume the 'response' variable contains the Python code\n",
        "        if confirmation.lower() == 'true':\n",
        "          try:\n",
        "            exec(response)  # Execute the Python code snippet that we've got in response\n",
        "          except Exception as e:\n",
        "            print(f\"An error occurred while executing the script: {e}\")\n",
        "        else:\n",
        "            print(\"Operation cancelled.\")\n",
        "        break"
      ]
    },
    {
      "cell_type": "markdown",
      "metadata": {
        "id": "5qzXwYFInNWY"
      },
      "source": [
        "## Summary\n",
        "This project demonstrates the application and use of OpenAI's powerful language model, for the purpose of suggesting data visualizations. It showcases the ability to utilize the AI model to process and understand user inputs, and subsequently generate appropriate guidance for data visualization.\n",
        "\n",
        "A key aspect of this project is the focus on user interaction safety and data privacy. I've incorporated OpenAI's Moderation API to flag and handle potentially inappropriate or harmful content. Furthermore, I emphasize the use of anonymized, simulated, or dummy data to mitigate potential privacy and security issues.\n",
        "\n",
        "While Microsoft and OpenAI may be developing their official solutions, this project is an exploration and demonstration of the potential capabilities of such technology. It underscores the vast possibilities when integrating AI, specifically language models like GPT, into various services and applications - from everyday tools like Excel to more complex data analysis software.\n",
        "\n",
        "In conclusion, this project is an illustration of engaging with OpenAI's API, respecting the ethical guidelines, and understanding the powerful potential of AI-driven interaction in the field of data visualization."
      ]
    }
  ],
  "metadata": {
    "colab": {
      "provenance": []
    },
    "kernelspec": {
      "display_name": "Python 3",
      "name": "python3"
    },
    "language_info": {
      "name": "python"
    }
  },
  "nbformat": 4,
  "nbformat_minor": 0
}
